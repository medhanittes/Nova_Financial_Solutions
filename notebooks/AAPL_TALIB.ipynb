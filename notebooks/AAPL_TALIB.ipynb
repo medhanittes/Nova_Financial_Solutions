{
 "cells": [
  {
   "cell_type": "code",
   "execution_count": 4,
   "metadata": {},
   "outputs": [
    {
     "ename": "ImportError",
     "evalue": "cannot import name 'Ticker' from 'pynance' (c:\\Users\\medha\\OneDrive\\Desktop\\Week1_Talib\\myvenv1\\lib\\site-packages\\pynance\\__init__.py)",
     "output_type": "error",
     "traceback": [
      "\u001b[1;31m---------------------------------------------------------------------------\u001b[0m",
      "\u001b[1;31mImportError\u001b[0m                               Traceback (most recent call last)",
      "Cell \u001b[1;32mIn[4], line 3\u001b[0m\n\u001b[0;32m      1\u001b[0m \u001b[38;5;28;01mimport\u001b[39;00m \u001b[38;5;21;01mpandas\u001b[39;00m \u001b[38;5;28;01mas\u001b[39;00m \u001b[38;5;21;01mpd\u001b[39;00m\n\u001b[0;32m      2\u001b[0m \u001b[38;5;28;01mimport\u001b[39;00m \u001b[38;5;21;01mtalib\u001b[39;00m\n\u001b[1;32m----> 3\u001b[0m \u001b[38;5;28;01mfrom\u001b[39;00m \u001b[38;5;21;01mpynance\u001b[39;00m \u001b[38;5;28;01mimport\u001b[39;00m Ticker\n",
      "\u001b[1;31mImportError\u001b[0m: cannot import name 'Ticker' from 'pynance' (c:\\Users\\medha\\OneDrive\\Desktop\\Week1_Talib\\myvenv1\\lib\\site-packages\\pynance\\__init__.py)"
     ]
    }
   ],
   "source": [
    "import pandas as pd\n",
    "import talib\n",
    "import yfinance as yf"
   ]
  },
  {
   "cell_type": "code",
   "execution_count": null,
   "metadata": {},
   "outputs": [
    {
     "name": "stdout",
     "output_type": "stream",
     "text": [
      "Index(['Date', 'Open', 'High', 'Low', 'Close', 'Adj Close', 'Volume',\n",
      "       'Dividends', 'Stock Splits'],\n",
      "      dtype='object')\n"
     ]
    }
   ],
   "source": [
    "# Load the CSV file\n",
    "df = pd.read_csv(r'C:\\Users\\medha\\OneDrive\\Desktop\\Week1_Talib\\data\\AAPL_historical_data.csv')\n",
    "print(df.columns)"
   ]
  },
  {
   "cell_type": "code",
   "execution_count": 9,
   "metadata": {},
   "outputs": [
    {
     "name": "stdout",
     "output_type": "stream",
     "text": [
      "            Close         SMA        RSI      MACD  MACD_Signal  MACD_Hist\n",
      "200      0.067522    0.117821  45.206626 -0.007814    -0.006631  -0.001183\n",
      "201      0.068080    0.117553  45.255014 -0.007732    -0.006851  -0.000881\n",
      "202      0.068080    0.117330  45.255014 -0.007579    -0.006997  -0.000583\n",
      "203      0.073661    0.117120  45.739106 -0.006928    -0.006983   0.000055\n",
      "204      0.075893    0.116906  45.931278 -0.006161    -0.006819   0.000657\n",
      "...           ...         ...        ...       ...          ...        ...\n",
      "10993  218.539993  188.122350  54.698178  4.662717     6.678882  -2.016164\n",
      "10994  217.490005  188.322350  54.558096  3.748082     6.092722  -2.344640\n",
      "10995  217.960007  188.517200  54.610391  3.026267     5.479431  -2.453164\n",
      "10996  218.240005  188.716450  54.641643  2.448591     4.873263  -2.424672\n",
      "10997  218.800003  188.911450  54.704333  2.012764     4.301163  -2.288399\n",
      "\n",
      "[10798 rows x 6 columns]\n"
     ]
    }
   ],
   "source": [
    "# Remove rows with NaN values from all columns\n",
    "df_cleaned = df.dropna()\n",
    "\n",
    "# Save the cleaned data to a new CSV file\n",
    "df_cleaned.to_csv(r'C:\\Users\\medha\\OneDrive\\Desktop\\Week1_Talib\\data\\AAPL_historical_data_cleaned.csv', index=False)\n",
    "\n",
    "# Load the cleaned data\n",
    "df = pd.read_csv(r'C:\\Users\\medha\\OneDrive\\Desktop\\Week1_Talib\\data\\AAPL_historical_data_cleaned.csv')\n",
    "\n",
    "# Calculate a TA-Lib indicator Simple Moving Average\n",
    "df['SMA'] = talib.SMA(df['Close'], timeperiod=200)  # 200 days\n",
    "\n",
    "# Calculate a TA-Lib indicator Relative Strength Index\n",
    "df['RSI'] = talib.RSI(df['Close'], timeperiod=200)  # 200 days\n",
    "\n",
    "# Calculate MACD\n",
    "df['MACD'], df['MACD_Signal'], df['MACD_Hist'] = talib.MACD(df['Close'], \n",
    "                                                               fastperiod=12, \n",
    "                                                               slowperiod=26, \n",
    "                                                               signalperiod=9)\n",
    "\n",
    "# Remove rows with NaN values after calculations\n",
    "df = df.dropna()\n",
    "\n",
    "# Display the last few rows of the DataFrame\n",
    "print(df[['Close', 'SMA', 'RSI', 'MACD', 'MACD_Signal', 'MACD_Hist']])"
   ]
  },
  {
   "cell_type": "code",
   "execution_count": 2,
   "metadata": {},
   "outputs": [
    {
     "name": "stdout",
     "output_type": "stream",
     "text": [
      "Historical Data:\n"
     ]
    },
    {
     "ename": "NameError",
     "evalue": "name 'df' is not defined",
     "output_type": "error",
     "traceback": [
      "\u001b[1;31m---------------------------------------------------------------------------\u001b[0m",
      "\u001b[1;31mNameError\u001b[0m                                 Traceback (most recent call last)",
      "Cell \u001b[1;32mIn[2], line 3\u001b[0m\n\u001b[0;32m      1\u001b[0m \u001b[38;5;66;03m# Display the first few rows of the DataFrame\u001b[39;00m\n\u001b[0;32m      2\u001b[0m \u001b[38;5;28mprint\u001b[39m(\u001b[38;5;124m\"\u001b[39m\u001b[38;5;124mHistorical Data:\u001b[39m\u001b[38;5;124m\"\u001b[39m)\n\u001b[1;32m----> 3\u001b[0m \u001b[38;5;28mprint\u001b[39m(\u001b[43mdf\u001b[49m\u001b[38;5;241m.\u001b[39mhead())\n",
      "\u001b[1;31mNameError\u001b[0m: name 'df' is not defined"
     ]
    }
   ],
   "source": [
    "# Display the first few rows of the DataFrame\n",
    "print(\"Historical Data:\")\n",
    "print(df.head())\n"
   ]
  }
 ],
 "metadata": {
  "kernelspec": {
   "display_name": "myvenv1",
   "language": "python",
   "name": "python3"
  },
  "language_info": {
   "codemirror_mode": {
    "name": "ipython",
    "version": 3
   },
   "file_extension": ".py",
   "mimetype": "text/x-python",
   "name": "python",
   "nbconvert_exporter": "python",
   "pygments_lexer": "ipython3",
   "version": "3.10.8"
  }
 },
 "nbformat": 4,
 "nbformat_minor": 2
}
