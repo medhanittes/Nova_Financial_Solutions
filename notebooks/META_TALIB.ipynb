{
 "cells": [
  {
   "cell_type": "code",
   "execution_count": 1,
   "metadata": {},
   "outputs": [],
   "source": [
    "import pandas as pd\n",
    "import talib"
   ]
  },
  {
   "cell_type": "code",
   "execution_count": 2,
   "metadata": {},
   "outputs": [
    {
     "name": "stdout",
     "output_type": "stream",
     "text": [
      "Index(['Date', 'Open', 'High', 'Low', 'Close', 'Adj Close', 'Volume',\n",
      "       'Dividends', 'Stock Splits'],\n",
      "      dtype='object')\n"
     ]
    }
   ],
   "source": [
    "# Load the CSV file\n",
    "df = pd.read_csv(r'C:\\Users\\medha\\OneDrive\\Desktop\\Week1_Talib\\data\\META_historical_data.csv')\n",
    "print(df.columns)"
   ]
  },
  {
   "cell_type": "code",
   "execution_count": null,
   "metadata": {},
   "outputs": [],
   "source": [
    "# Load the CSV file\n",
    "df = pd.read_csv(r'C:\\Users\\medha\\OneDrive\\Desktop\\Week1_Talib\\data\\META_historical_data.csv')\n",
    "\n",
    "# Remove rows with NaN values from all columns\n",
    "df_cleaned = df.dropna()\n",
    "\n",
    "# Save the cleaned data to a new CSV file\n",
    "df_cleaned.to_csv(r'C:\\Users\\medha\\OneDrive\\Desktop\\Week1_Talib\\data\\META_historical_data_cleaned.csv', index=False)\n",
    "\n",
    "# Load the cleaned data\n",
    "df = pd.read_csv(r'C:\\Users\\medha\\OneDrive\\Desktop\\Week1_Talib\\data\\META_historical_data_cleaned.csv')\n",
    "\n",
    "# Calculate a TA-Lib indicator Simple Moving Average\n",
    "df['SMA'] = talib.SMA(df['Close'], timeperiod=200)  # 200 days\n",
    "\n",
    "# Calculate a TA-Lib indicator Relative Strength Index\n",
    "df['RSI'] = talib.RSI(df['Close'], timeperiod=200)  # 200 days\n",
    "\n",
    "# Calculate MACD\n",
    "df['MACD'], df['MACD_Signal'], df['MACD_Hist'] = talib.MACD(df['Close'], \n",
    "                                                                                                                           fastperiod=12, \n",
    "                                                               slowperiod=26, \n",
    "                                                               signalperiod=9)\n",
    "\n",
    "# Remove rows with NaN values after calculations\n",
    "df = df.dropna()\n",
    "\n",
    "# Display the last few rows of the DataFrame\n",
    "print(df[['Close', 'SMA', 'RSI', 'MACD', 'MACD_Signal', 'MACD_Hist']])"
   ]
  }
 ],
 "metadata": {
  "kernelspec": {
   "display_name": "myvenv1",
   "language": "python",
   "name": "python3"
  },
  "language_info": {
   "codemirror_mode": {
    "name": "ipython",
    "version": 3
   },
   "file_extension": ".py",
   "mimetype": "text/x-python",
   "name": "python",
   "nbconvert_exporter": "python",
   "pygments_lexer": "ipython3",
   "version": "3.10.8"
  }
 },
 "nbformat": 4,
 "nbformat_minor": 2
}
