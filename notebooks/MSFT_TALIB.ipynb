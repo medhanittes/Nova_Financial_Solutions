{
 "cells": [
  {
   "cell_type": "code",
   "execution_count": 1,
   "metadata": {},
   "outputs": [],
   "source": [
    "import pandas as pd\n",
    "import talib"
   ]
  },
  {
   "cell_type": "code",
   "execution_count": 3,
   "metadata": {},
   "outputs": [
    {
     "name": "stdout",
     "output_type": "stream",
     "text": [
      "Index(['Date', 'Open', 'High', 'Low', 'Close', 'Adj Close', 'Volume',\n",
      "       'Dividends', 'Stock Splits'],\n",
      "      dtype='object')\n"
     ]
    }
   ],
   "source": [
    "# Load the CSV file\n",
    "df = pd.read_csv(r'C:\\Users\\medha\\OneDrive\\Desktop\\Week1_Talib\\data\\MSFT_historical_data.csv')\n",
    "print(df.columns)"
   ]
  },
  {
   "cell_type": "code",
   "execution_count": 4,
   "metadata": {},
   "outputs": [
    {
     "name": "stdout",
     "output_type": "stream",
     "text": [
      "           Close         SMA        RSI      MACD  MACD_Signal  MACD_Hist\n",
      "200     0.171007    0.116975  58.817330  0.004377     0.005051  -0.000674\n",
      "201     0.164063    0.117292  57.852376  0.003722     0.004785  -0.001063\n",
      "202     0.165799    0.117609  58.025399  0.003305     0.004489  -0.001184\n",
      "203     0.167535    0.117947  58.197867  0.003080     0.004207  -0.001127\n",
      "204     0.165799    0.118286  57.958527  0.002729     0.003912  -0.001182\n",
      "...          ...         ...        ...       ...          ...        ...\n",
      "9667  428.899994  400.680651  54.116666 -0.684986     3.013510  -3.698496\n",
      "9668  418.399994  401.136351  53.387924 -2.740453     1.862718  -4.603171\n",
      "9669  425.269989  401.613600  53.797049 -3.771598     0.735855  -4.507452\n",
      "9670  426.730011  402.105300  53.883505 -4.420024    -0.295321  -4.124703\n",
      "9671  422.920013  402.557800  53.620360 -5.181612    -1.272579  -3.909033\n",
      "\n",
      "[9472 rows x 6 columns]\n"
     ]
    }
   ],
   "source": [
    "# Remove rows with NaN values from all columns\n",
    "df_cleaned = df.dropna()\n",
    "\n",
    "# Save the cleaned data to a new CSV file\n",
    "df_cleaned.to_csv(r'C:\\Users\\medha\\OneDrive\\Desktop\\Week1_Talib\\data\\MSFT_historical_data_cleaned.csv', index=False)\n",
    "\n",
    "# Load the cleaned data\n",
    "df = pd.read_csv(r'C:\\Users\\medha\\OneDrive\\Desktop\\Week1_Talib\\data\\MSFT_historical_data_cleaned.csv')\n",
    "\n",
    "# Calculate a TA-Lib indicator Simple Moving Average\n",
    "df['SMA'] = talib.SMA(df['Close'], timeperiod=200)  # 200 days\n",
    "\n",
    "# Calculate a TA-Lib indicator Relative Strength Index\n",
    "df['RSI'] = talib.RSI(df['Close'], timeperiod=200)  # 200 days\n",
    "\n",
    "# Calculate MACD\n",
    "df['MACD'], df['MACD_Signal'], df['MACD_Hist'] = talib.MACD(df['Close'], \n",
    "                                                               fastperiod=12, \n",
    "                                                               slowperiod=26, \n",
    "                                                               signalperiod=9)\n",
    "\n",
    "# Remove rows with NaN values after calculations\n",
    "df = df.dropna()\n",
    "\n",
    "# Display the last few rows of the DataFrame\n",
    "print(df[['Close', 'SMA', 'RSI', 'MACD', 'MACD_Signal', 'MACD_Hist']])"
   ]
  }
 ],
 "metadata": {
  "kernelspec": {
   "display_name": "myvenv1",
   "language": "python",
   "name": "python3"
  },
  "language_info": {
   "codemirror_mode": {
    "name": "ipython",
    "version": 3
   },
   "file_extension": ".py",
   "mimetype": "text/x-python",
   "name": "python",
   "nbconvert_exporter": "python",
   "pygments_lexer": "ipython3",
   "version": "3.10.8"
  }
 },
 "nbformat": 4,
 "nbformat_minor": 2
}
