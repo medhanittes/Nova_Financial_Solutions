{
 "cells": [
  {
   "cell_type": "code",
   "execution_count": 3,
   "metadata": {},
   "outputs": [],
   "source": [
    "import pandas as pd\n",
    "import talib"
   ]
  },
  {
   "cell_type": "code",
   "execution_count": 4,
   "metadata": {},
   "outputs": [
    {
     "name": "stdout",
     "output_type": "stream",
     "text": [
      "Index(['Date', 'Open', 'High', 'Low', 'Close', 'Adj Close', 'Volume',\n",
      "       'Dividends', 'Stock Splits'],\n",
      "      dtype='object')\n"
     ]
    }
   ],
   "source": [
    "# Load the CSV file\n",
    "df = pd.read_csv(r'C:\\Users\\medha\\OneDrive\\Desktop\\Week1_Talib\\data\\NVDA_historical_data.csv')\n",
    "print(df.columns)"
   ]
  },
  {
   "cell_type": "code",
   "execution_count": 5,
   "metadata": {},
   "outputs": [
    {
     "name": "stdout",
     "output_type": "stream",
     "text": [
      "           Close        SMA        RSI      MACD  MACD_Signal  MACD_Hist\n",
      "200     0.058854   0.042845  53.045690  0.002774     0.000847   0.001927\n",
      "201     0.060547   0.042922  53.316937  0.003309     0.001339   0.001970\n",
      "202     0.059635   0.043011  53.150705  0.003618     0.001795   0.001823\n",
      "203     0.059115   0.043098  53.055915  0.003778     0.002192   0.001586\n",
      "204     0.063281   0.043207  53.720481  0.004192     0.002592   0.001600\n",
      "...          ...        ...        ...       ...          ...        ...\n",
      "6416  114.250000  78.288715  57.747762 -0.007652     1.879233  -1.886885\n",
      "6417  112.279999  78.621305  57.390358 -0.817813     1.339824  -2.157637\n",
      "6418  113.059998  78.960240  57.495039 -1.381013     0.795656  -2.176669\n",
      "6419  111.589996  79.289200  57.228737 -1.923793     0.251767  -2.175559\n",
      "6420  103.730003  79.573820  55.838903 -2.954132    -0.389413  -2.564719\n",
      "\n",
      "[6221 rows x 6 columns]\n"
     ]
    }
   ],
   "source": [
    "# Remove rows with NaN values from all columns\n",
    "df_cleaned = df.dropna()\n",
    "\n",
    "# Save the cleaned data to a new CSV file\n",
    "df_cleaned.to_csv(r'C:\\Users\\medha\\OneDrive\\Desktop\\Week1_Talib\\data\\NVDA_historical_data_cleaned.csv', index=False)\n",
    "\n",
    "# Load the cleaned data\n",
    "df = pd.read_csv(r'C:\\Users\\medha\\OneDrive\\Desktop\\Week1_Talib\\data\\NVDA_historical_data_cleaned.csv')\n",
    "\n",
    "# Calculate a TA-Lib indicator Simple Moving Average\n",
    "df['SMA'] = talib.SMA(df['Close'], timeperiod=200)  # 200 days\n",
    "\n",
    "# Calculate a TA-Lib indicator Relative Strength Index\n",
    "df['RSI'] = talib.RSI(df['Close'], timeperiod=200)  # 200 days\n",
    "\n",
    "# Calculate MACD\n",
    "df['MACD'], df['MACD_Signal'], df['MACD_Hist'] = talib.MACD(df['Close'], \n",
    "                                                               fastperiod=12, \n",
    "                                                               slowperiod=26, \n",
    "                                                               signalperiod=9)\n",
    "\n",
    "# Remove rows with NaN values after calculations\n",
    "df = df.dropna()\n",
    "\n",
    "# Display the last few rows of the DataFrame\n",
    "print(df[['Close', 'SMA', 'RSI', 'MACD', 'MACD_Signal', 'MACD_Hist']])"
   ]
  }
 ],
 "metadata": {
  "kernelspec": {
   "display_name": "myvenv1",
   "language": "python",
   "name": "python3"
  },
  "language_info": {
   "codemirror_mode": {
    "name": "ipython",
    "version": 3
   },
   "file_extension": ".py",
   "mimetype": "text/x-python",
   "name": "python",
   "nbconvert_exporter": "python",
   "pygments_lexer": "ipython3",
   "version": "3.10.8"
  }
 },
 "nbformat": 4,
 "nbformat_minor": 2
}
