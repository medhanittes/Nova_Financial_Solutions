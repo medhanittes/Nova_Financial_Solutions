{
 "cells": [
  {
   "cell_type": "code",
   "execution_count": 1,
   "metadata": {},
   "outputs": [],
   "source": [
    "import pandas as pd\n",
    "import talib"
   ]
  },
  {
   "cell_type": "code",
   "execution_count": 2,
   "metadata": {},
   "outputs": [
    {
     "name": "stdout",
     "output_type": "stream",
     "text": [
      "Index(['Date', 'Open', 'High', 'Low', 'Close', 'Adj Close', 'Volume',\n",
      "       'Dividends', 'Stock Splits'],\n",
      "      dtype='object')\n"
     ]
    }
   ],
   "source": [
    "# Load the CSV file\n",
    "df = pd.read_csv(r'C:\\Users\\medha\\OneDrive\\Desktop\\Week1_Talib\\data\\TSLA_historical_data.csv')\n",
    "print(df.columns)"
   ]
  },
  {
   "cell_type": "code",
   "execution_count": 4,
   "metadata": {},
   "outputs": [
    {
     "name": "stdout",
     "output_type": "stream",
     "text": [
      "           Close         SMA        RSI       MACD  MACD_Signal  MACD_Hist\n",
      "200     1.971333    1.846590  51.752795  -0.005376    -0.035629   0.030252\n",
      "201     1.938000    1.847900  51.557057   0.000697    -0.028364   0.029060\n",
      "202     1.972000    1.849233  51.744156   0.008159    -0.021059   0.029218\n",
      "203     2.016667    1.850973  51.988987   0.017476    -0.013352   0.030828\n",
      "204     2.076667    1.852970  52.315601   0.029362    -0.004809   0.034172\n",
      "...          ...         ...        ...        ...          ...        ...\n",
      "3340  215.990005  205.241000  50.201595  11.789291    15.873789  -4.084498\n",
      "3341  220.250000  205.039600  50.394554   9.353206    14.569672  -5.216466\n",
      "3342  219.800003  204.840250  50.373832   7.302106    13.116159  -5.814053\n",
      "3343  232.100006  204.682650  50.928144   6.593101    11.811547  -5.218447\n",
      "3344  222.619995  204.480800  50.491286   5.206237    10.490485  -5.284248\n",
      "\n",
      "[3145 rows x 6 columns]\n"
     ]
    }
   ],
   "source": [
    "# Remove rows with NaN values from all columns\n",
    "df_cleaned = df.dropna()\n",
    "\n",
    "# Save the cleaned data to a new CSV file\n",
    "df_cleaned.to_csv(r'C:\\Users\\medha\\OneDrive\\Desktop\\Week1_Talib\\data\\TSLA_historical_data_cleaned.csv', index=False)\n",
    "\n",
    "# Load the cleaned data\n",
    "df = pd.read_csv(r'C:\\Users\\medha\\OneDrive\\Desktop\\Week1_Talib\\data\\TSLA_historical_data_cleaned.csv')\n",
    "\n",
    "# Calculate a TA-Lib indicator Simple Moving Average\n",
    "df['SMA'] = talib.SMA(df['Close'], timeperiod=200)  # 200 days\n",
    "\n",
    "# Calculate a TA-Lib indicator Relative Strength Index\n",
    "df['RSI'] = talib.RSI(df['Close'], timeperiod=200)  # 200 days\n",
    "\n",
    "# Calculate MACD\n",
    "df['MACD'], df['MACD_Signal'], df['MACD_Hist'] = talib.MACD(df['Close'], \n",
    "                                                               fastperiod=12, \n",
    "                                                               slowperiod=26, \n",
    "                                                               signalperiod=9)\n",
    "\n",
    "# Remove rows with NaN values after calculations\n",
    "df = df.dropna()\n",
    "\n",
    "# Display the last few rows of the DataFrame\n",
    "print(df[['Close', 'SMA', 'RSI', 'MACD', 'MACD_Signal', 'MACD_Hist']])"
   ]
  }
 ],
 "metadata": {
  "kernelspec": {
   "display_name": "myvenv1",
   "language": "python",
   "name": "python3"
  },
  "language_info": {
   "codemirror_mode": {
    "name": "ipython",
    "version": 3
   },
   "file_extension": ".py",
   "mimetype": "text/x-python",
   "name": "python",
   "nbconvert_exporter": "python",
   "pygments_lexer": "ipython3",
   "version": "3.10.8"
  }
 },
 "nbformat": 4,
 "nbformat_minor": 2
}
